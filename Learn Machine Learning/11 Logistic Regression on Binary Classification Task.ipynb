{
 "cells": [
  {
   "cell_type": "markdown",
   "id": "46a11dee",
   "metadata": {},
   "source": [
    "### Logistic Regression on Binary Classification Task"
   ]
  },
  {
   "cell_type": "code",
   "execution_count": 298,
   "id": "9e5a1028",
   "metadata": {},
   "outputs": [
    {
     "data": {
      "text/html": [
       "<div>\n",
       "<style scoped>\n",
       "    .dataframe tbody tr th:only-of-type {\n",
       "        vertical-align: middle;\n",
       "    }\n",
       "\n",
       "    .dataframe tbody tr th {\n",
       "        vertical-align: top;\n",
       "    }\n",
       "\n",
       "    .dataframe thead th {\n",
       "        text-align: right;\n",
       "    }\n",
       "</style>\n",
       "<table border=\"1\" class=\"dataframe\">\n",
       "  <thead>\n",
       "    <tr style=\"text-align: right;\">\n",
       "      <th></th>\n",
       "      <th>label</th>\n",
       "      <th>sms</th>\n",
       "    </tr>\n",
       "  </thead>\n",
       "  <tbody>\n",
       "    <tr>\n",
       "      <th>0</th>\n",
       "      <td>ham</td>\n",
       "      <td>Go until jurong point, crazy.. Available only ...</td>\n",
       "    </tr>\n",
       "    <tr>\n",
       "      <th>1</th>\n",
       "      <td>ham</td>\n",
       "      <td>Ok lar... Joking wif u oni...</td>\n",
       "    </tr>\n",
       "    <tr>\n",
       "      <th>2</th>\n",
       "      <td>spam</td>\n",
       "      <td>Free entry in 2 a wkly comp to win FA Cup fina...</td>\n",
       "    </tr>\n",
       "    <tr>\n",
       "      <th>3</th>\n",
       "      <td>ham</td>\n",
       "      <td>U dun say so early hor... U c already then say...</td>\n",
       "    </tr>\n",
       "    <tr>\n",
       "      <th>4</th>\n",
       "      <td>ham</td>\n",
       "      <td>Nah I don't think he goes to usf, he lives aro...</td>\n",
       "    </tr>\n",
       "  </tbody>\n",
       "</table>\n",
       "</div>"
      ],
      "text/plain": [
       "  label                                                sms\n",
       "0   ham  Go until jurong point, crazy.. Available only ...\n",
       "1   ham                      Ok lar... Joking wif u oni...\n",
       "2  spam  Free entry in 2 a wkly comp to win FA Cup fina...\n",
       "3   ham  U dun say so early hor... U c already then say...\n",
       "4   ham  Nah I don't think he goes to usf, he lives aro..."
      ]
     },
     "execution_count": 298,
     "metadata": {},
     "output_type": "execute_result"
    }
   ],
   "source": [
    "import pandas as pd\n",
    "\n",
    "df = pd.read_csv(\n",
    "    'C:/Users/Zirito/PycharmProjects/Learn Machine Learning/SMSSpamCollection',\n",
    "    sep = '\\t', header = None, names = ['label', 'sms']\n",
    ")\n",
    "df.head()"
   ]
  },
  {
   "cell_type": "code",
   "execution_count": 299,
   "id": "c59fb545",
   "metadata": {},
   "outputs": [
    {
     "data": {
      "text/plain": [
       "ham     4825\n",
       "spam     747\n",
       "Name: label, dtype: int64"
      ]
     },
     "execution_count": 299,
     "metadata": {},
     "output_type": "execute_result"
    }
   ],
   "source": [
    "df['label'].value_counts() # unbalance dataset"
   ]
  },
  {
   "cell_type": "code",
   "execution_count": 300,
   "id": "08c71195",
   "metadata": {},
   "outputs": [
    {
     "data": {
      "text/plain": [
       "array([0, 0, 1, ..., 0, 0, 0])"
      ]
     },
     "execution_count": 300,
     "metadata": {},
     "output_type": "execute_result"
    }
   ],
   "source": [
    "from sklearn.preprocessing import LabelBinarizer\n",
    "\n",
    "X = df['sms'].values\n",
    "y = df['label'].values\n",
    "\n",
    "lb = LabelBinarizer()\n",
    "y = lb.fit_transform(y).ravel() # flatten or ravel\n",
    "y"
   ]
  },
  {
   "cell_type": "code",
   "execution_count": 301,
   "id": "8a6b075f",
   "metadata": {},
   "outputs": [
    {
     "data": {
      "text/plain": [
       "array(['ham', 'spam'], dtype='<U4')"
      ]
     },
     "execution_count": 301,
     "metadata": {},
     "output_type": "execute_result"
    }
   ],
   "source": [
    "lb.classes_"
   ]
  },
  {
   "cell_type": "code",
   "execution_count": 302,
   "id": "e5ea1fe7",
   "metadata": {},
   "outputs": [],
   "source": [
    "from sklearn.model_selection import train_test_split\n",
    "\n",
    "X_train, X_test, y_train, y_test = train_test_split(X, y, test_size = 0.25, random_state = 0)"
   ]
  },
  {
   "cell_type": "code",
   "execution_count": 303,
   "id": "33c92e0d",
   "metadata": {},
   "outputs": [
    {
     "name": "stdout",
     "output_type": "stream",
     "text": [
      "['Its going good...no problem..but still need little experience to understand american customer voice...'\n",
      " 'U have a secret admirer. REVEAL who thinks U R So special. Call 09065174042. To opt out Reply REVEAL STOP. 1.50 per msg recd. Cust care 07821230901'\n",
      " 'Ok...' ...\n",
      " \"For ur chance to win a £250 cash every wk TXT: ACTION to 80608. T's&C's www.movietrivia.tv custcare 08712405022, 1x150p/wk\"\n",
      " 'R U &SAM P IN EACHOTHER. IF WE MEET WE CAN GO 2 MY HOUSE'\n",
      " 'Mm feeling sleepy. today itself i shall get that dear'] \n",
      "\n",
      "[0 1 0 ... 1 0 0]\n"
     ]
    }
   ],
   "source": [
    "print(X_train,'\\n')\n",
    "print(y_train)"
   ]
  },
  {
   "cell_type": "code",
   "execution_count": 308,
   "id": "d081fdc3",
   "metadata": {
    "scrolled": true
   },
   "outputs": [
    {
     "name": "stdout",
     "output_type": "stream",
     "text": [
      "  (0, 7241)\t0.11253343579528907\n",
      "  (0, 7185)\t0.19273340016375756\n",
      "  (0, 7035)\t0.14502188177850334\n",
      "  (0, 6392)\t0.19273340016375756\n",
      "  (0, 6144)\t0.19273340016375756\n",
      "  (0, 5597)\t0.11346900297119587\n",
      "  (0, 5279)\t0.1338971667568563\n",
      "  (0, 4885)\t0.19273340016375756\n",
      "  (0, 4861)\t0.13235901120234608\n",
      "  (0, 4358)\t0.11021504619906546\n",
      "  (0, 4328)\t0.1723052363780971\n",
      "  (0, 4168)\t0.1723052363780971\n",
      "  (0, 4117)\t0.19273340016375756\n",
      "  (0, 3880)\t0.17728009081609514\n",
      "  (0, 3748)\t0.30945408508306665\n",
      "  (0, 3520)\t0.19273340016375756\n",
      "  (0, 3209)\t0.3993444791659462\n",
      "  (0, 3042)\t0.19273340016375756\n",
      "  (0, 2969)\t0.3854668003275151\n",
      "  (0, 2968)\t0.2785474663877418\n",
      "  (0, 2047)\t0.13162798135796386\n",
      "  (0, 1445)\t0.13828270725115407\n",
      "  (0, 514)\t0.19273340016375756\n",
      "  (1, 6939)\t0.41069408806529517\n",
      "  (1, 6795)\t0.3817566050924978\n",
      "  :\t:\n",
      "  (1390, 6774)\t0.2567848547419996\n",
      "  (1390, 6457)\t0.2993348249320414\n",
      "  (1390, 6404)\t0.30797732015483786\n",
      "  (1390, 5981)\t0.17857459228707248\n",
      "  (1390, 5400)\t0.292273392171272\n",
      "  (1390, 5394)\t0.18178911709262635\n",
      "  (1390, 4955)\t0.19549711320941562\n",
      "  (1390, 4746)\t0.30797732015483786\n",
      "  (1390, 4615)\t0.2402296693718744\n",
      "  (1390, 4289)\t0.24564274051908955\n",
      "  (1390, 4235)\t0.2159956719395445\n",
      "  (1390, 3469)\t0.2623272437120541\n",
      "  (1390, 3212)\t0.21977727352201235\n",
      "  (1390, 549)\t0.3348233623613138\n",
      "  (1391, 2257)\t1.0\n",
      "  (1392, 6467)\t0.27882155259860664\n",
      "  (1392, 5277)\t0.34083720648988275\n",
      "  (1392, 4631)\t0.1909479232071192\n",
      "  (1392, 4110)\t0.39327471262743224\n",
      "  (1392, 3176)\t0.28180569144062256\n",
      "  (1392, 2997)\t0.21375009217162053\n",
      "  (1392, 2025)\t0.30039510765968397\n",
      "  (1392, 1544)\t0.2920731027969941\n",
      "  (1392, 1000)\t0.37954345311445\n",
      "  (1392, 952)\t0.4126278359397159\n"
     ]
    }
   ],
   "source": [
    "from sklearn.feature_extraction.text import TfidfVectorizer\n",
    "\n",
    "vectorizer = TfidfVectorizer(stop_words = 'english')\n",
    "\n",
    "X_train_tfidf = vectorizer.fit_transform(X_train)\n",
    "X_test_tfidf = vectorizer.transform(X_test)\n",
    "\n",
    "print(X_test_tfidf)"
   ]
  },
  {
   "cell_type": "code",
   "execution_count": 309,
   "id": "8d36fcc2",
   "metadata": {},
   "outputs": [
    {
     "name": "stdout",
     "output_type": "stream",
     "text": [
      "PRED 0 - SMS Storming msg: Wen u lift d phne, u say \"HELLO\" Do u knw wt is d real meaning of HELLO?? . . . It's d name of a girl..! . . . Yes.. And u knw who is dat girl?? \"Margaret Hello\" She is d girlfrnd f Grahmbell who invnted telphone... . . . . Moral:One can 4get d name of a person, bt not his girlfrnd... G o o d n i g h t . . .@ \n",
      "\n",
      "PRED 0 - SMS <Forwarded from 448712404000>Please CALL 08712404000 immediately as there is an urgent message waiting for you. \n",
      "\n",
      "PRED 0 - SMS And also I've sorta blown him off a couple times recently so id rather not text him out of the blue looking for weed \n",
      "\n",
      "PRED 0 - SMS Sir Goodmorning, Once free call me. \n",
      "\n",
      "PRED 0 - SMS All will come alive.better correct any good looking figure there itself.. \n",
      "\n"
     ]
    }
   ],
   "source": [
    "from sklearn.linear_model import LogisticRegression\n",
    "\n",
    "model = LogisticRegression()\n",
    "\n",
    "model.fit(X_train_tfidf, y_train)\n",
    "y_pred = model.predict(X_test_tfidf)\n",
    "\n",
    "for pred,sms in zip(y_pred[:5], X_test[:5]):\n",
    "    print(f'PRED {pred} - SMS {sms} \\n')"
   ]
  },
  {
   "cell_type": "code",
   "execution_count": 310,
   "id": "7930c17f",
   "metadata": {},
   "outputs": [
    {
     "data": {
      "text/plain": [
       "array([[1207,    1],\n",
       "       [  48,  137]], dtype=int64)"
      ]
     },
     "execution_count": 310,
     "metadata": {},
     "output_type": "execute_result"
    }
   ],
   "source": [
    "# Evaluation in binary classification:\n",
    "# Confusion matrix, accuracy, precision & recall, f1 score, ROC\n",
    "\n",
    "from sklearn.metrics import confusion_matrix\n",
    "\n",
    "matrix = confusion_matrix(y_test, y_pred)\n",
    "matrix"
   ]
  },
  {
   "cell_type": "code",
   "execution_count": 312,
   "id": "8ff11f0e",
   "metadata": {},
   "outputs": [
    {
     "name": "stdout",
     "output_type": "stream",
     "text": [
      "TN: 1207\n",
      "FP: 1\n",
      "FN: 48\n",
      "TP: 137\n"
     ]
    }
   ],
   "source": [
    "tn, fp, fn, tp = matrix.ravel()\n",
    "print(f'TN: {tn}')\n",
    "print(f'FP: {fp}')\n",
    "print(f'FN: {fn}')\n",
    "print(f'TP: {tp}')"
   ]
  },
  {
   "cell_type": "code",
   "execution_count": 315,
   "id": "00ac7437",
   "metadata": {},
   "outputs": [
    {
     "data": {
      "image/png": "[encoded data removed]",
      "text/plain": [
       "<Figure size 288x288 with 2 Axes>"
      ]
     },
     "metadata": {
      "needs_background": "light"
     },
     "output_type": "display_data"
    }
   ],
   "source": [
    "import matplotlib.pyplot as plt\n",
    "\n",
    "plt.matshow(matrix)\n",
    "plt.colorbar()\n",
    "plt.title('Confusion matrix')\n",
    "plt.xlabel('predicted label')\n",
    "plt.ylabel('true label')\n",
    "plt.show()"
   ]
  },
  {
   "cell_type": "code",
   "execution_count": 319,
   "id": "30865640",
   "metadata": {},
   "outputs": [
    {
     "name": "stdout",
     "output_type": "stream",
     "text": [
      "0.964824120603015\n",
      "0.9927536231884058\n",
      "0.7405405405405405\n",
      "0.8482972136222909\n"
     ]
    }
   ],
   "source": [
    "from sklearn.metrics import accuracy_score, precision_score, recall_score, f1_score\n",
    "\n",
    "print(accuracy_score(y_test, y_pred))\n",
    "print(precision_score(y_test, y_pred)) #positive predicted value\n",
    "print(recall_score(y_test, y_pred)) #true positive rate\n",
    "print(f1_score(y_test, y_pred)) #harmonic mean from precision and recall"
   ]
  },
  {
   "cell_type": "code",
   "execution_count": 321,
   "id": "2a1003f3",
   "metadata": {},
   "outputs": [
    {
     "data": {
      "image/png": "[encoded data removed]",
      "text/plain": [
       "<Figure size 432x288 with 1 Axes>"
      ]
     },
     "metadata": {
      "needs_background": "light"
     },
     "output_type": "display_data"
    }
   ],
   "source": [
    "# ROC: Receiver Operating Characteristic\n",
    "\n",
    "from sklearn.metrics import roc_curve, auc\n",
    "\n",
    "prob_estimate = model.predict_proba(X_test_tfidf)\n",
    "\n",
    "fpr, tpr, threshold = roc_curve(y_test, prob_estimate[:,1])\n",
    "nilai_auc = auc(fpr,tpr)\n",
    "nilai_auc\n",
    "\n",
    "plt.plot(fpr, tpr, 'b', label = f'AUC = {nilai_auc}')\n",
    "plt.plot([0,1],[0,1], 'r--', label = 'Random classifier')\n",
    "\n",
    "plt.title('ROC')\n",
    "plt.xlabel('fallout or false positive rate')\n",
    "plt.ylabel('recall or true positive rate')\n",
    "plt.legend()\n",
    "plt.show()"
   ]
  },
  {
   "cell_type": "code",
   "execution_count": null,
   "id": "65858b00",
   "metadata": {},
   "outputs": [],
   "source": []
  }
 ],
 "metadata": {
  "kernelspec": {
   "display_name": "Python 3",
   "language": "python",
   "name": "python3"
  },
  "language_info": {
   "codemirror_mode": {
    "name": "ipython",
    "version": 3
   },
   "file_extension": ".py",
   "mimetype": "text/x-python",
   "name": "python",
   "nbconvert_exporter": "python",
   "pygments_lexer": "ipython3",
   "version": "3.8.8"
  }
 },
 "nbformat": 4,
 "nbformat_minor": 5
}
