{
 "cells": [
  {
   "cell_type": "markdown",
   "id": "144449a1",
   "metadata": {},
   "source": [
    "### Text Preprocessing: Bag of Words and Stop Word Filtering"
   ]
  },
  {
   "cell_type": "code",
   "execution_count": 241,
   "id": "f1804bcc",
   "metadata": {},
   "outputs": [
    {
     "data": {
      "text/plain": [
       "['My name is adi gunawana',\n",
       " 'I live at yogyakarta with my family',\n",
       " 'This year i feel very happy because i will go to the mall where on the side river']"
      ]
     },
     "execution_count": 241,
     "metadata": {},
     "output_type": "execute_result"
    }
   ],
   "source": [
    "data =[\n",
    "    'My name is adi gunawana',\n",
    "    'I live at yogyakarta with my family',\n",
    "    'This year i feel very happy because i will go to the mall where on the side river'\n",
    "]\n",
    "\n",
    "data"
   ]
  },
  {
   "cell_type": "code",
   "execution_count": 242,
   "id": "349f520e",
   "metadata": {},
   "outputs": [
    {
     "data": {
      "text/plain": [
       "matrix([[1, 0, 0, 0, 0, 0, 1, 0, 1, 0, 0, 1, 1, 0, 0, 0, 0, 0, 0, 0, 0,\n",
       "         0, 0, 0, 0],\n",
       "        [0, 1, 0, 1, 0, 0, 0, 0, 0, 1, 0, 1, 0, 0, 0, 0, 0, 0, 0, 0, 0,\n",
       "         0, 1, 0, 1],\n",
       "        [0, 0, 1, 0, 1, 1, 0, 1, 0, 0, 1, 0, 0, 1, 1, 1, 2, 1, 1, 1, 1,\n",
       "         1, 0, 1, 0]], dtype=int64)"
      ]
     },
     "execution_count": 242,
     "metadata": {},
     "output_type": "execute_result"
    }
   ],
   "source": [
    "# Bag of words with Countvectorizer\n",
    "\n",
    "from sklearn.feature_extraction.text import CountVectorizer\n",
    "\n",
    "vectorizer = CountVectorizer()\n",
    "data_vectorized = vectorizer.fit_transform(data).todense()\n",
    "data_vectorized"
   ]
  },
  {
   "cell_type": "code",
   "execution_count": 243,
   "id": "378b6475",
   "metadata": {},
   "outputs": [
    {
     "data": {
      "text/plain": [
       "['adi',\n",
       " 'at',\n",
       " 'because',\n",
       " 'family',\n",
       " 'feel',\n",
       " 'go',\n",
       " 'gunawana',\n",
       " 'happy',\n",
       " 'is',\n",
       " 'live',\n",
       " 'mall',\n",
       " 'my',\n",
       " 'name',\n",
       " 'on',\n",
       " 'river',\n",
       " 'side',\n",
       " 'the',\n",
       " 'this',\n",
       " 'to',\n",
       " 'very',\n",
       " 'where',\n",
       " 'will',\n",
       " 'with',\n",
       " 'year',\n",
       " 'yogyakarta']"
      ]
     },
     "execution_count": 243,
     "metadata": {},
     "output_type": "execute_result"
    }
   ],
   "source": [
    "vectorizer.get_feature_names()"
   ]
  },
  {
   "cell_type": "code",
   "execution_count": 244,
   "id": "6d1ed792",
   "metadata": {},
   "outputs": [
    {
     "name": "stdout",
     "output_type": "stream",
     "text": [
      "jarak dokumen 1 dan 2: [[3.]]\n",
      "jarak dokumen 1 dan 3: [[4.79583152]]\n",
      "jarak dokumen 2 dan 3: [[4.89897949]]\n"
     ]
    }
   ],
   "source": [
    "from sklearn.metrics.pairwise import euclidean_distances\n",
    "\n",
    "for i in range(len(data_vectorized)):\n",
    "    for j in range(i, len(data_vectorized)):\n",
    "        if i == j:\n",
    "            continue\n",
    "        jarak = euclidean_distances(data_vectorized[i], data_vectorized[j])\n",
    "        print(f'jarak dokumen {i+1} dan {j+1}: {jarak}')"
   ]
  },
  {
   "cell_type": "code",
   "execution_count": 245,
   "id": "c2b8f234",
   "metadata": {},
   "outputs": [
    {
     "data": {
      "text/plain": [
       "['My name is adi gunawana',\n",
       " 'I live at yogyakarta with my family',\n",
       " 'This year i feel very happy because i will go to the mall where on the side river']"
      ]
     },
     "execution_count": 245,
     "metadata": {},
     "output_type": "execute_result"
    }
   ],
   "source": [
    "# Stop word filtering\n",
    "data"
   ]
  },
  {
   "cell_type": "code",
   "execution_count": 246,
   "id": "fcbe918b",
   "metadata": {},
   "outputs": [
    {
     "data": {
      "text/plain": [
       "matrix([[1, 0, 0, 1, 0, 0, 0, 0, 0, 0],\n",
       "        [0, 1, 0, 0, 0, 1, 0, 0, 0, 1],\n",
       "        [0, 0, 1, 0, 1, 0, 1, 1, 1, 0]], dtype=int64)"
      ]
     },
     "execution_count": 246,
     "metadata": {},
     "output_type": "execute_result"
    }
   ],
   "source": [
    "from sklearn.feature_extraction.text import CountVectorizer\n",
    "\n",
    "vectorizer = CountVectorizer(stop_words = 'english')\n",
    "data_vectorized = vectorizer.fit_transform(data).todense()\n",
    "data_vectorized"
   ]
  },
  {
   "cell_type": "code",
   "execution_count": null,
   "id": "b5197a17",
   "metadata": {},
   "outputs": [],
   "source": []
  },
  {
   "cell_type": "code",
   "execution_count": null,
   "id": "4adcf67e",
   "metadata": {},
   "outputs": [],
   "source": []
  }
 ],
 "metadata": {
  "kernelspec": {
   "display_name": "Python 3",
   "language": "python",
   "name": "python3"
  },
  "language_info": {
   "codemirror_mode": {
    "name": "ipython",
    "version": 3
   },
   "file_extension": ".py",
   "mimetype": "text/x-python",
   "name": "python",
   "nbconvert_exporter": "python",
   "pygments_lexer": "ipython3",
   "version": "3.8.8"
  }
 },
 "nbformat": 4,
 "nbformat_minor": 5
}
