{
 "cells": [
  {
   "cell_type": "markdown",
   "id": "8c3b02b4",
   "metadata": {},
   "source": [
    "## SIMPLE LINEAR REGRESSION"
   ]
  },
  {
   "cell_type": "code",
   "execution_count": 87,
   "id": "5183a081",
   "metadata": {},
   "outputs": [
    {
     "data": {
      "text/html": [
       "<div>\n",
       "<style scoped>\n",
       "    .dataframe tbody tr th:only-of-type {\n",
       "        vertical-align: middle;\n",
       "    }\n",
       "\n",
       "    .dataframe tbody tr th {\n",
       "        vertical-align: top;\n",
       "    }\n",
       "\n",
       "    .dataframe thead th {\n",
       "        text-align: right;\n",
       "    }\n",
       "</style>\n",
       "<table border=\"1\" class=\"dataframe\">\n",
       "  <thead>\n",
       "    <tr style=\"text-align: right;\">\n",
       "      <th></th>\n",
       "      <th>diameter</th>\n",
       "      <th>harga</th>\n",
       "    </tr>\n",
       "  </thead>\n",
       "  <tbody>\n",
       "    <tr>\n",
       "      <th>0</th>\n",
       "      <td>8</td>\n",
       "      <td>10</td>\n",
       "    </tr>\n",
       "    <tr>\n",
       "      <th>1</th>\n",
       "      <td>5</td>\n",
       "      <td>8</td>\n",
       "    </tr>\n",
       "    <tr>\n",
       "      <th>2</th>\n",
       "      <td>4</td>\n",
       "      <td>7</td>\n",
       "    </tr>\n",
       "    <tr>\n",
       "      <th>3</th>\n",
       "      <td>10</td>\n",
       "      <td>12</td>\n",
       "    </tr>\n",
       "    <tr>\n",
       "      <th>4</th>\n",
       "      <td>16</td>\n",
       "      <td>20</td>\n",
       "    </tr>\n",
       "  </tbody>\n",
       "</table>\n",
       "</div>"
      ],
      "text/plain": [
       "   diameter  harga\n",
       "0         8     10\n",
       "1         5      8\n",
       "2         4      7\n",
       "3        10     12\n",
       "4        16     20"
      ]
     },
     "execution_count": 87,
     "metadata": {},
     "output_type": "execute_result"
    }
   ],
   "source": [
    "# Sample Data\n",
    "import pandas as pd\n",
    "\n",
    "donat = {\n",
    "    'diameter': [8, 5, 4, 10, 16],\n",
    "    'harga': [10, 8, 7, 12, 20]\n",
    "}\n",
    "\n",
    "donat_df = pd.DataFrame(donat)\n",
    "donat_df"
   ]
  },
  {
   "cell_type": "code",
   "execution_count": 88,
   "id": "366ab474",
   "metadata": {},
   "outputs": [
    {
     "data": {
      "image/png": "[encoded data removed]",
      "text/plain": [
       "<Figure size 432x288 with 1 Axes>"
      ]
     },
     "metadata": {
      "needs_background": "light"
     },
     "output_type": "display_data"
    }
   ],
   "source": [
    "# Visualisasi Data\n",
    "\n",
    "import matplotlib.pyplot as plt\n",
    "\n",
    "donat_df.plot(kind = 'scatter', x = 'diameter', y = 'harga')\n",
    "\n",
    "plt.title('Diameter dan harga donat')\n",
    "plt.xlabel('Diameter (Cm)')\n",
    "plt.ylabel('harga (rp)')\n",
    "plt.xlim(0, 25)\n",
    "plt.ylim(0, 25)\n",
    "plt.grid(True)\n",
    "plt.show()"
   ]
  },
  {
   "cell_type": "code",
   "execution_count": 89,
   "id": "b9f5437c",
   "metadata": {},
   "outputs": [
    {
     "name": "stdout",
     "output_type": "stream",
     "text": [
      "X: [ 8  5  4 10 16]\n",
      "y: [10  8  7 12 20]\n"
     ]
    }
   ],
   "source": [
    "# Adjust data\n",
    "import numpy as np\n",
    "\n",
    "X = np.array(donat_df['diameter'])\n",
    "y = np.array(donat_df['harga'])\n",
    "\n",
    "print(f'X: {X}')\n",
    "print(f'y: {y}')"
   ]
  },
  {
   "cell_type": "code",
   "execution_count": 90,
   "id": "636203f2",
   "metadata": {},
   "outputs": [
    {
     "data": {
      "text/plain": [
       "(5, 1)"
      ]
     },
     "execution_count": 90,
     "metadata": {},
     "output_type": "execute_result"
    }
   ],
   "source": [
    "X = X.reshape(-1,1)\n",
    "X.shape"
   ]
  },
  {
   "cell_type": "code",
   "execution_count": 91,
   "id": "164d205a",
   "metadata": {},
   "outputs": [
    {
     "data": {
      "text/plain": [
       "array([[ 8],\n",
       "       [ 5],\n",
       "       [ 4],\n",
       "       [10],\n",
       "       [16]], dtype=int64)"
      ]
     },
     "execution_count": 91,
     "metadata": {},
     "output_type": "execute_result"
    }
   ],
   "source": [
    "X"
   ]
  },
  {
   "cell_type": "code",
   "execution_count": 92,
   "id": "ba295504",
   "metadata": {},
   "outputs": [
    {
     "data": {
      "text/plain": [
       "LinearRegression()"
      ]
     },
     "execution_count": 92,
     "metadata": {},
     "output_type": "execute_result"
    }
   ],
   "source": [
    "# Training simple regression model\n",
    "\n",
    "from sklearn.linear_model import LinearRegression\n",
    "\n",
    "model = LinearRegression()\n",
    "model.fit(X, y)"
   ]
  },
  {
   "cell_type": "code",
   "execution_count": 98,
   "id": "a995460d",
   "metadata": {},
   "outputs": [
    {
     "data": {
      "image/png": "[encoded data removed]",
      "text/plain": [
       "<Figure size 432x288 with 1 Axes>"
      ]
     },
     "metadata": {
      "needs_background": "light"
     },
     "output_type": "display_data"
    }
   ],
   "source": [
    "# Visualisasi model\n",
    "\n",
    "X_vis = np.array([0, 25]).reshape(-1,1)\n",
    "y_vis = model.predict(X_vis)\n",
    "\n",
    "plt.scatter(X, y)\n",
    "plt.plot(X_vis, y_vis, 'r-')\n",
    "\n",
    "plt.title('Diameter dan harga donat')\n",
    "plt.xlabel('Diameter (Cm)')\n",
    "plt.ylabel('harga (rp)')\n",
    "plt.xlim(0, 25)\n",
    "plt.ylim(0, 25)\n",
    "plt.grid(True)\n",
    "plt.show()"
   ]
  },
  {
   "cell_type": "markdown",
   "id": "84b2360e",
   "metadata": {},
   "source": [
    "Formula Linear Regression:\n",
    "$$y = \\alpha + \\beta x $$\n",
    "with:\n",
    "\n",
    "y = response variable,\n",
    "\n",
    "x = explanatory variable,\n",
    "\n",
    "$\\alpha$ = intercept, and\n",
    "\n",
    "$\\beta$ = slope"
   ]
  },
  {
   "cell_type": "code",
   "execution_count": 94,
   "id": "a9faba47",
   "metadata": {},
   "outputs": [
    {
     "name": "stdout",
     "output_type": "stream",
     "text": [
      "y intercept: 2.1776315789473664\n",
      "y slope: [1.07236842]\n"
     ]
    }
   ],
   "source": [
    "print(f'y intercept: {model.intercept_}')\n",
    "print(f'y slope: {model.coef_}')"
   ]
  },
  {
   "cell_type": "code",
   "execution_count": 100,
   "id": "0113dd59",
   "metadata": {},
   "outputs": [
    {
     "data": {
      "text/plain": [
       "array([ 4.32236842, 11.82894737, 23.625     , 18.26315789])"
      ]
     },
     "execution_count": 100,
     "metadata": {},
     "output_type": "execute_result"
    }
   ],
   "source": [
    "# Try to predict\n",
    "\n",
    "diameter = np.array([2, 9, 20, 15]).reshape(-1,1)\n",
    "\n",
    "pred = model.predict(diameter)\n",
    "pred"
   ]
  },
  {
   "cell_type": "code",
   "execution_count": 102,
   "id": "c8655601",
   "metadata": {},
   "outputs": [
    {
     "name": "stdout",
     "output_type": "stream",
     "text": [
      "Diameter: [2] maka harganya: 4.32236842105263\n",
      "Diameter: [9] maka harganya: 11.828947368421053\n",
      "Diameter: [20] maka harganya: 23.625000000000004\n",
      "Diameter: [15] maka harganya: 18.263157894736846\n"
     ]
    }
   ],
   "source": [
    "for d, h in zip(diameter, pred):\n",
    "    print(f'Diameter: {d} maka harganya: {h}')"
   ]
  },
  {
   "cell_type": "markdown",
   "id": "ced2f9f8",
   "metadata": {},
   "source": [
    "## Evaluate simple linear regression"
   ]
  },
  {
   "cell_type": "code",
   "execution_count": 108,
   "id": "f1f7ac42",
   "metadata": {},
   "outputs": [
    {
     "data": {
      "text/plain": [
       "LinearRegression()"
      ]
     },
     "execution_count": 108,
     "metadata": {},
     "output_type": "execute_result"
    }
   ],
   "source": [
    "# Trainin and testing data\n",
    "X_train = np.array([8, 5, 4, 10, 16]).reshape(-1,1)\n",
    "y_train = np.array([10, 8, 7, 12, 20])\n",
    "\n",
    "X_test = np.array([6,7,12,16,28]).reshape(-1,1)\n",
    "y_test = np.array([8,9,17,20.5,22])\n",
    "\n",
    "# Model\n",
    "model = LinearRegression()\n",
    "model.fit(X_train,y_train)"
   ]
  },
  {
   "cell_type": "code",
   "execution_count": 109,
   "id": "744b4ecf",
   "metadata": {},
   "outputs": [
    {
     "name": "stdout",
     "output_type": "stream",
     "text": [
      "R-squared: 0.3436415614816476\n"
     ]
    }
   ],
   "source": [
    "# Evaluate with Coefficient of Determination R-squared [R^2]\n",
    "from sklearn.metrics import r2_score\n",
    "\n",
    "y_pred = model.predict(X_test)\n",
    "r_squared = r2_score(y_test, y_pred)\n",
    "\n",
    "print(f'R-squared: {r_squared}') #better if close to 1, not good if close to -1"
   ]
  }
 ],
 "metadata": {
  "kernelspec": {
   "display_name": "Python 3",
   "language": "python",
   "name": "python3"
  },
  "language_info": {
   "codemirror_mode": {
    "name": "ipython",
    "version": 3
   },
   "file_extension": ".py",
   "mimetype": "text/x-python",
   "name": "python",
   "nbconvert_exporter": "python",
   "pygments_lexer": "ipython3",
   "version": "3.8.8"
  }
 },
 "nbformat": 4,
 "nbformat_minor": 5
}
