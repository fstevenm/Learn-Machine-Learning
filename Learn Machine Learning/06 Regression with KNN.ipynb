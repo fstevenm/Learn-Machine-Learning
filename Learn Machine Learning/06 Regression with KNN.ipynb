{
 "cells": [
  {
   "cell_type": "markdown",
   "id": "69e3caa2",
   "metadata": {},
   "source": [
    "## Regression with KNN"
   ]
  },
  {
   "cell_type": "code",
   "execution_count": 2,
   "id": "982cf7fe",
   "metadata": {
    "collapsed": true
   },
   "outputs": [
    {
     "data": {
      "text/html": [
       "<div>\n",
       "<style scoped>\n",
       "    .dataframe tbody tr th:only-of-type {\n",
       "        vertical-align: middle;\n",
       "    }\n",
       "\n",
       "    .dataframe tbody tr th {\n",
       "        vertical-align: top;\n",
       "    }\n",
       "\n",
       "    .dataframe thead th {\n",
       "        text-align: right;\n",
       "    }\n",
       "</style>\n",
       "<table border=\"1\" class=\"dataframe\">\n",
       "  <thead>\n",
       "    <tr style=\"text-align: right;\">\n",
       "      <th></th>\n",
       "      <th>tinggi</th>\n",
       "      <th>jenis_kelamin</th>\n",
       "      <th>berat</th>\n",
       "    </tr>\n",
       "  </thead>\n",
       "  <tbody>\n",
       "    <tr>\n",
       "      <th>0</th>\n",
       "      <td>158</td>\n",
       "      <td>pria</td>\n",
       "      <td>64</td>\n",
       "    </tr>\n",
       "    <tr>\n",
       "      <th>1</th>\n",
       "      <td>170</td>\n",
       "      <td>pria</td>\n",
       "      <td>86</td>\n",
       "    </tr>\n",
       "    <tr>\n",
       "      <th>2</th>\n",
       "      <td>183</td>\n",
       "      <td>pria</td>\n",
       "      <td>84</td>\n",
       "    </tr>\n",
       "    <tr>\n",
       "      <th>3</th>\n",
       "      <td>191</td>\n",
       "      <td>pria</td>\n",
       "      <td>80</td>\n",
       "    </tr>\n",
       "    <tr>\n",
       "      <th>4</th>\n",
       "      <td>155</td>\n",
       "      <td>wanita</td>\n",
       "      <td>49</td>\n",
       "    </tr>\n",
       "    <tr>\n",
       "      <th>5</th>\n",
       "      <td>163</td>\n",
       "      <td>wanita</td>\n",
       "      <td>59</td>\n",
       "    </tr>\n",
       "    <tr>\n",
       "      <th>6</th>\n",
       "      <td>180</td>\n",
       "      <td>wanita</td>\n",
       "      <td>67</td>\n",
       "    </tr>\n",
       "    <tr>\n",
       "      <th>7</th>\n",
       "      <td>158</td>\n",
       "      <td>wanita</td>\n",
       "      <td>54</td>\n",
       "    </tr>\n",
       "    <tr>\n",
       "      <th>8</th>\n",
       "      <td>176</td>\n",
       "      <td>wanita</td>\n",
       "      <td>67</td>\n",
       "    </tr>\n",
       "  </tbody>\n",
       "</table>\n",
       "</div>"
      ],
      "text/plain": [
       "   tinggi jenis_kelamin  berat\n",
       "0     158          pria     64\n",
       "1     170          pria     86\n",
       "2     183          pria     84\n",
       "3     191          pria     80\n",
       "4     155        wanita     49\n",
       "5     163        wanita     59\n",
       "6     180        wanita     67\n",
       "7     158        wanita     54\n",
       "8     176        wanita     67"
      ]
     },
     "execution_count": 2,
     "metadata": {},
     "output_type": "execute_result"
    }
   ],
   "source": [
    "# Sample data\n",
    "\n",
    "import pandas as pd\n",
    "\n",
    "sensus = {\n",
    "    'tinggi': [158, 170, 183, 191, 155, 163, 180, 158, 176],\n",
    "    'jenis_kelamin': ['pria','pria','pria','pria','wanita','wanita','wanita','wanita','wanita'],\n",
    "    'berat': [64, 86, 84, 80, 49, 59, 67, 54, 67]\n",
    "}\n",
    "\n",
    "sensus_df = pd.DataFrame(sensus)\n",
    "sensus_df"
   ]
  },
  {
   "cell_type": "code",
   "execution_count": 4,
   "id": "65902091",
   "metadata": {},
   "outputs": [
    {
     "name": "stdout",
     "output_type": "stream",
     "text": [
      "X_train:[[158 'pria']\n",
      " [170 'pria']\n",
      " [183 'pria']\n",
      " [191 'pria']\n",
      " [155 'wanita']\n",
      " [163 'wanita']\n",
      " [180 'wanita']\n",
      " [158 'wanita']\n",
      " [176 'wanita']]\n",
      "y_train: [64 86 84 80 49 59 67 54 67]\n"
     ]
    }
   ],
   "source": [
    "# Prepocessing dataset\n",
    "import numpy as np\n",
    "\n",
    "X_train = np.array(sensus_df[['tinggi','jenis_kelamin']])\n",
    "y_train = np.array(sensus_df['berat'])\n",
    "\n",
    "print(f'X_train:{X_train}')\n",
    "print(f'y_train: {y_train}')"
   ]
  },
  {
   "cell_type": "code",
   "execution_count": 5,
   "id": "865e6173",
   "metadata": {},
   "outputs": [
    {
     "name": "stdout",
     "output_type": "stream",
     "text": [
      "X_train:[[158 'pria']\n",
      " [170 'pria']\n",
      " [183 'pria']\n",
      " [191 'pria']\n",
      " [155 'wanita']\n",
      " [163 'wanita']\n",
      " [180 'wanita']\n",
      " [158 'wanita']\n",
      " [176 'wanita']]\n",
      "X_train_transposed:[[158 170 183 191 155 163 180 158 176]\n",
      " ['pria' 'pria' 'pria' 'pria' 'wanita' 'wanita' 'wanita' 'wanita'\n",
      "  'wanita']]\n"
     ]
    }
   ],
   "source": [
    "X_train_transposed = np.transpose(X_train)\n",
    "print(f'X_train:{X_train}')\n",
    "print(f'X_train_transposed:{X_train_transposed}')"
   ]
  },
  {
   "cell_type": "code",
   "execution_count": 6,
   "id": "38cfebcf",
   "metadata": {},
   "outputs": [
    {
     "name": "stdout",
     "output_type": "stream",
     "text": [
      "jenis_kelamin: ['pria' 'pria' 'pria' 'pria' 'wanita' 'wanita' 'wanita' 'wanita' 'wanita']\n",
      "jk_binarized: [[0]\n",
      " [0]\n",
      " [0]\n",
      " [0]\n",
      " [1]\n",
      " [1]\n",
      " [1]\n",
      " [1]\n",
      " [1]]\n"
     ]
    }
   ],
   "source": [
    "from sklearn.preprocessing import LabelBinarizer\n",
    "\n",
    "lb = LabelBinarizer()\n",
    "jk_binarized = lb.fit_transform(X_train_transposed[1])\n",
    "\n",
    "print(f'jenis_kelamin: {X_train_transposed[1]}')\n",
    "print(f'jk_binarized: {jk_binarized}')"
   ]
  },
  {
   "cell_type": "code",
   "execution_count": 7,
   "id": "62fbc25b",
   "metadata": {},
   "outputs": [
    {
     "data": {
      "text/plain": [
       "array([[0, 0, 0, 0, 1, 1, 1, 1, 1]])"
      ]
     },
     "execution_count": 7,
     "metadata": {},
     "output_type": "execute_result"
    }
   ],
   "source": [
    "jk_binarized = jk_binarized.reshape(1,-1)\n",
    "jk_binarized"
   ]
  },
  {
   "cell_type": "code",
   "execution_count": 8,
   "id": "656754ce",
   "metadata": {},
   "outputs": [
    {
     "data": {
      "text/plain": [
       "array([0, 0, 0, 0, 1, 1, 1, 1, 1])"
      ]
     },
     "execution_count": 8,
     "metadata": {},
     "output_type": "execute_result"
    }
   ],
   "source": [
    "# Flatten -> 2D to one dimensional\n",
    "jk_binarized = jk_binarized.flatten()\n",
    "jk_binarized"
   ]
  },
  {
   "cell_type": "code",
   "execution_count": 9,
   "id": "4d43c38b",
   "metadata": {},
   "outputs": [
    {
     "data": {
      "text/plain": [
       "array([[158, 170, 183, 191, 155, 163, 180, 158, 176],\n",
       "       [0, 0, 0, 0, 1, 1, 1, 1, 1]], dtype=object)"
      ]
     },
     "execution_count": 9,
     "metadata": {},
     "output_type": "execute_result"
    }
   ],
   "source": [
    "X_train_transposed[1] = jk_binarized\n",
    "X_train_transposed"
   ]
  },
  {
   "cell_type": "code",
   "execution_count": 13,
   "id": "e3cd49c4",
   "metadata": {},
   "outputs": [
    {
     "name": "stdout",
     "output_type": "stream",
     "text": [
      "X_train_transposed:\n",
      "[[158 170 183 191 155 163 180 158 176]\n",
      " [0 0 0 0 1 1 1 1 1]]\n",
      "X_train:\n",
      "[[158 0]\n",
      " [170 0]\n",
      " [183 0]\n",
      " [191 0]\n",
      " [155 1]\n",
      " [163 1]\n",
      " [180 1]\n",
      " [158 1]\n",
      " [176 1]]\n"
     ]
    }
   ],
   "source": [
    "X_train = X_train_transposed.transpose()\n",
    "\n",
    "print(f'X_train_transposed:\\n{X_train_transposed}')\n",
    "print(f'X_train:\\n{X_train}')"
   ]
  },
  {
   "cell_type": "code",
   "execution_count": 15,
   "id": "ff42209c",
   "metadata": {},
   "outputs": [
    {
     "data": {
      "text/plain": [
       "KNeighborsRegressor(n_neighbors=3)"
      ]
     },
     "execution_count": 15,
     "metadata": {},
     "output_type": "execute_result"
    }
   ],
   "source": [
    "# Training model with KNN\n",
    "\n",
    "from sklearn.neighbors import KNeighborsRegressor\n",
    "\n",
    "K = 3 #nearest neigbours for make a prediction\n",
    "\n",
    "model = KNeighborsRegressor(n_neighbors = K)\n",
    "model.fit(X_train, y_train)"
   ]
  },
  {
   "cell_type": "code",
   "execution_count": 16,
   "id": "1b0a3b2e",
   "metadata": {},
   "outputs": [
    {
     "data": {
      "text/plain": [
       "array([[155,   1]])"
      ]
     },
     "execution_count": 16,
     "metadata": {},
     "output_type": "execute_result"
    }
   ],
   "source": [
    "# Predicit\n",
    "tinggi_b = 155\n",
    "jk = 1\n",
    "\n",
    "X_new = np.array([tinggi_b,jk]).reshape(1,-1) # to 2D\n",
    "# X_new = np.array([[tinggi_b,jk]])\n",
    "X_new"
   ]
  },
  {
   "cell_type": "code",
   "execution_count": 17,
   "id": "44cede1a",
   "metadata": {},
   "outputs": [
    {
     "data": {
      "text/plain": [
       "array([55.66666667])"
      ]
     },
     "execution_count": 17,
     "metadata": {},
     "output_type": "execute_result"
    }
   ],
   "source": [
    "y_new = model.predict(X_new)\n",
    "y_new"
   ]
  },
  {
   "cell_type": "code",
   "execution_count": 25,
   "id": "692c12f1",
   "metadata": {},
   "outputs": [],
   "source": [
    "# Evaliation model\n",
    "\n",
    "X_test = np.array([[168, 0],[180, 0],[160, 1],[169, 1]])\n",
    "y_test = np.array([65, 96, 52, 67])"
   ]
  },
  {
   "cell_type": "code",
   "execution_count": 26,
   "id": "86c74fe0",
   "metadata": {},
   "outputs": [
    {
     "name": "stdout",
     "output_type": "stream",
     "text": [
      "X_test:\n",
      "[[168   0]\n",
      " [180   0]\n",
      " [160   1]\n",
      " [169   1]]\n",
      "\n",
      "y_test: [65 96 52 67]\n"
     ]
    }
   ],
   "source": [
    "print(f'X_test:\\n{X_test}\\n')\n",
    "print(f'y_test: {y_test}')"
   ]
  },
  {
   "cell_type": "code",
   "execution_count": 27,
   "id": "6a9d28f1",
   "metadata": {},
   "outputs": [
    {
     "data": {
      "text/plain": [
       "array([70.66666667, 72.66666667, 59.        , 70.66666667])"
      ]
     },
     "execution_count": 27,
     "metadata": {},
     "output_type": "execute_result"
    }
   ],
   "source": [
    "y_pred = model.predict(X_test)\n",
    "y_pred"
   ]
  },
  {
   "cell_type": "code",
   "execution_count": 28,
   "id": "e210212a",
   "metadata": {},
   "outputs": [
    {
     "name": "stdout",
     "output_type": "stream",
     "text": [
      "R-squared: 0.3820116054158609\n"
     ]
    }
   ],
   "source": [
    "# Evaluate with Coefficient of determinant or R^2\n",
    "# Good if nearest to 1 , not good if 0 or negative\n",
    "from sklearn.metrics import r2_score\n",
    "\n",
    "r_squared = r2_score(y_test, y_pred)\n",
    "print(f'R-squared: {r_squared}')"
   ]
  },
  {
   "cell_type": "code",
   "execution_count": 30,
   "id": "7bcd9141",
   "metadata": {},
   "outputs": [
    {
     "name": "stdout",
     "output_type": "stream",
     "text": [
      "Mean Absolute Error: 9.916666666666668\n"
     ]
    }
   ],
   "source": [
    "# Evaluate with Mean Absolute Error\n",
    "\n",
    "from sklearn.metrics import mean_absolute_error\n",
    "\n",
    "MAE = mean_absolute_error(y_test, y_pred)\n",
    "print(f'Mean Absolute Error: {MAE}')"
   ]
  },
  {
   "cell_type": "code",
   "execution_count": 32,
   "id": "ce1cd125",
   "metadata": {},
   "outputs": [
    {
     "name": "stdout",
     "output_type": "stream",
     "text": [
      "Mean Squared Error: 159.74999999999997\n"
     ]
    }
   ],
   "source": [
    "# Evaluate with Mean Squared Error or Mean Squared Deviation\n",
    "\n",
    "from sklearn.metrics import mean_squared_error\n",
    "\n",
    "MSE = mean_squared_error(y_test, y_pred)\n",
    "print(f'Mean Squared Error: {MSE}')"
   ]
  },
  {
   "cell_type": "markdown",
   "id": "972d351f",
   "metadata": {},
   "source": [
    "## SCALING PROBLEM"
   ]
  },
  {
   "cell_type": "code",
   "execution_count": 83,
   "id": "8d7c18aa",
   "metadata": {},
   "outputs": [
    {
     "data": {
      "text/plain": [
       "[60.0, 40.01249804748511]"
      ]
     },
     "execution_count": 83,
     "metadata": {},
     "output_type": "execute_result"
    }
   ],
   "source": [
    "from scipy.spatial.distance import euclidean\n",
    "\n",
    "# milimeter\n",
    "X_train = np.array([[1700,0],[1600,1]])\n",
    "X_new = np.array([[1640,0]])\n",
    "\n",
    "[euclidean(X_new[0], d) for d in X_train]"
   ]
  },
  {
   "cell_type": "code",
   "execution_count": 84,
   "id": "54a50d74",
   "metadata": {},
   "outputs": [
    {
     "data": {
      "text/plain": [
       "[0.06000000000000005, 1.0007996802557442]"
      ]
     },
     "execution_count": 84,
     "metadata": {},
     "output_type": "execute_result"
    }
   ],
   "source": [
    "# meter\n",
    "X_train = np.array([[1.7,0],[1.6,1]])\n",
    "X_new = np.array([[1.64,0]])\n",
    "\n",
    "[euclidean(X_new[0], d) for d in X_train]"
   ]
  },
  {
   "cell_type": "code",
   "execution_count": 87,
   "id": "3beb5cb9",
   "metadata": {},
   "outputs": [],
   "source": [
    "# Standard Scaler (Normalization Z-Score)\n",
    "\n",
    "from sklearn.preprocessing import StandardScaler\n",
    "\n",
    "ss = StandardScaler()"
   ]
  },
  {
   "cell_type": "code",
   "execution_count": 95,
   "id": "c031ffab",
   "metadata": {},
   "outputs": [
    {
     "name": "stdout",
     "output_type": "stream",
     "text": [
      "X_train_scaled:\n",
      "[[ 1. -1.]\n",
      " [-1.  1.]]\n",
      "\n",
      "X_new_scaled:\n",
      "[[-0.2 -1. ]]\n",
      "\n",
      "jarak: [1.2, 2.1540659228538015]\n"
     ]
    }
   ],
   "source": [
    "# milimeter\n",
    "X_train = np.array([[1700,0],[1600,1]])\n",
    "X_train_scaled = ss.fit_transform(X_train)\n",
    "print(f'X_train_scaled:\\n{X_train_scaled}\\n')\n",
    "\n",
    "# meter\n",
    "X_new = np.array([[1640,0]])\n",
    "X_new_scaled = ss.transform(X_new)\n",
    "print(f'X_new_scaled:\\n{X_new_scaled}')\n",
    "\n",
    "print('\\njarak:',[euclidean(X_new_scaled[0], d) for d in X_train_scaled])"
   ]
  },
  {
   "cell_type": "code",
   "execution_count": 98,
   "id": "037959b6",
   "metadata": {},
   "outputs": [
    {
     "name": "stdout",
     "output_type": "stream",
     "text": [
      "X_train_scaled:\n",
      "[[ 1. -1.]\n",
      " [-1.  1.]]\n",
      "\n",
      "X_new_scaled:\n",
      "[[-0.2 -1. ]]\n",
      "\n",
      "jarak: [1.2000000000000026, 2.1540659228538006]\n"
     ]
    }
   ],
   "source": [
    "# milimeter\n",
    "X_train = np.array([[1.7,0],[1.6,1]])\n",
    "X_train_scaled = ss.fit_transform(X_train)\n",
    "print(f'X_train_scaled:\\n{X_train_scaled}\\n')\n",
    "\n",
    "# meter\n",
    "X_new = np.array([[1.64,0]])\n",
    "X_new_scaled = ss.transform(X_new)\n",
    "print(f'X_new_scaled:\\n{X_new_scaled}')\n",
    "\n",
    "print('\\njarak:',[euclidean(X_new_scaled[0], d) for d in X_train_scaled])"
   ]
  },
  {
   "cell_type": "code",
   "execution_count": 109,
   "id": "53f5e2a2",
   "metadata": {},
   "outputs": [],
   "source": [
    "# Feature Scaling in KNN\n",
    "X_train = np.array([[158, 0],\n",
    "                    [170, 0],\n",
    "                    [183, 0],\n",
    "                    [191, 0],\n",
    "                    [155, 1],\n",
    "                    [163, 1],\n",
    "                    [180, 1],\n",
    "                    [158, 1],\n",
    "                    [176, 1]])\n",
    "y_train = np.array([64, 86, 84, 80, 49, 59, 67, 54, 67])\n",
    "\n",
    "X_test = np.array([[168, 0],[180, 0],[160, 1],[169, 1]])\n",
    "y_test = np.array([65, 96, 52, 67])"
   ]
  },
  {
   "cell_type": "code",
   "execution_count": 110,
   "id": "8a7c5ed9",
   "metadata": {
    "collapsed": true
   },
   "outputs": [
    {
     "name": "stdout",
     "output_type": "stream",
     "text": [
      "X_train_scaled:\n",
      "[[-1.03297125 -1.11803399]\n",
      " [-0.03689183 -1.11803399]\n",
      " [ 1.04219421 -1.11803399]\n",
      " [ 1.70624715 -1.11803399]\n",
      " [-1.2819911   0.89442719]\n",
      " [-0.61793816  0.89442719]\n",
      " [ 0.79317435  0.89442719]\n",
      " [-1.03297125  0.89442719]\n",
      " [ 0.46114788  0.89442719]]\n",
      "\n"
     ]
    }
   ],
   "source": [
    "X_train_scaled = ss.fit_transform(X_train)\n",
    "print(f'X_train_scaled:\\n{X_train_scaled}\\n')"
   ]
  },
  {
   "cell_type": "code",
   "execution_count": 111,
   "id": "e404a2c3",
   "metadata": {},
   "outputs": [
    {
     "name": "stdout",
     "output_type": "stream",
     "text": [
      "X_test_scaled:\n",
      "[[-0.20290507 -1.11803399]\n",
      " [ 0.79317435 -1.11803399]\n",
      " [-0.86695801  0.89442719]\n",
      " [-0.11989845  0.89442719]]\n"
     ]
    }
   ],
   "source": [
    "X_test_scaled = ss.transform(X_test)\n",
    "print(f'X_test_scaled:\\n{X_test_scaled}')"
   ]
  },
  {
   "cell_type": "code",
   "execution_count": 115,
   "id": "1faaef61",
   "metadata": {},
   "outputs": [
    {
     "name": "stdout",
     "output_type": "stream",
     "text": [
      "Mean Absolute Error: 7.583333333333336\n",
      "Mean Squared Error: 85.13888888888893\n"
     ]
    }
   ],
   "source": [
    "model.fit(X_train_scaled, y_train)\n",
    "y_pred = model.predict(X_test_scaled)\n",
    "\n",
    "MAE = mean_absolute_error(y_test, y_pred)\n",
    "print(f'Mean Absolute Error: {MAE}')\n",
    "\n",
    "MSE = mean_squared_error(y_test, y_pred)\n",
    "print(f'Mean Squared Error: {MSE}')"
   ]
  },
  {
   "cell_type": "code",
   "execution_count": null,
   "id": "06fbaddc",
   "metadata": {},
   "outputs": [],
   "source": []
  }
 ],
 "metadata": {
  "kernelspec": {
   "display_name": "Python 3",
   "language": "python",
   "name": "python3"
  },
  "language_info": {
   "codemirror_mode": {
    "name": "ipython",
    "version": 3
   },
   "file_extension": ".py",
   "mimetype": "text/x-python",
   "name": "python",
   "nbconvert_exporter": "python",
   "pygments_lexer": "ipython3",
   "version": "3.8.8"
  }
 },
 "nbformat": 4,
 "nbformat_minor": 5
}
